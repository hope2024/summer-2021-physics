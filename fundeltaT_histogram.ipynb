{
 "cells": [
  {
   "cell_type": "markdown",
   "id": "c6616278",
   "metadata": {},
   "source": [
    "# fundeltaT histogram "
   ]
  },
  {
   "cell_type": "code",
   "execution_count": 5,
   "id": "e9eae333",
   "metadata": {},
   "outputs": [],
   "source": [
    "#Import Programs\n",
    "\n",
    "import random\n",
    "import scipy\n",
    "import numpy\n",
    "import math"
   ]
  },
  {
   "cell_type": "code",
   "execution_count": null,
   "id": "5872917a",
   "metadata": {},
   "outputs": [],
   "source": [
    "#Initialize Constants\n",
    "\n",
    "num_bins = 200\n"
   ]
  },
  {
   "cell_type": "code",
   "execution_count": null,
   "id": "6d3a4167",
   "metadata": {},
   "outputs": [],
   "source": [
    "#testing fundeltaT\n",
    "def fundeltaT(num_bins, M, dTau):\n",
    "    Tturb = []\n",
    "    deltaT = []\n",
    "    \n",
    "    rayleigh = numpy.random\n",
    "\n"
   ]
  },
  {
   "cell_type": "code",
   "execution_count": null,
   "id": "ba208f91",
   "metadata": {},
   "outputs": [],
   "source": []
  }
 ],
 "metadata": {
  "kernelspec": {
   "display_name": "Python 3",
   "language": "python",
   "name": "python3"
  },
  "language_info": {
   "codemirror_mode": {
    "name": "ipython",
    "version": 3
   },
   "file_extension": ".py",
   "mimetype": "text/x-python",
   "name": "python",
   "nbconvert_exporter": "python",
   "pygments_lexer": "ipython3",
   "version": "3.8.8"
  }
 },
 "nbformat": 4,
 "nbformat_minor": 5
}
