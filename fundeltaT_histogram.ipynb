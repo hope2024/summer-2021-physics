{
 "cells": [
  {
   "cell_type": "markdown",
   "id": "f9aebd34",
   "metadata": {},
   "source": [
    "# fundeltaT histogram "
   ]
  },
  {
   "cell_type": "code",
   "execution_count": 35,
   "id": "e9eae333",
   "metadata": {},
   "outputs": [],
   "source": [
    "#Import Programs\n",
    "\n",
    "import random\n",
    "import numpy\n",
    "import matplotlib.pyplot as plt"
   ]
  },
  {
   "cell_type": "code",
   "execution_count": 36,
   "id": "1da118f5",
   "metadata": {},
   "outputs": [],
   "source": [
    "#Initialize Constants\n",
    "\n",
    "num_bins = 200"
   ]
  },
  {
   "cell_type": "code",
   "execution_count": 42,
   "id": "56761d6b",
   "metadata": {},
   "outputs": [],
   "source": [
    "# Parameters\n",
    "meandeltaT = numpy.pi\n",
    "'''\n",
    "num of collisions smaller to see more detail in resultant graphs\n",
    "'''\n",
    "M = 10**2 "
   ]
  },
  {
   "cell_type": "code",
   "execution_count": 46,
   "id": "6d3a4167",
   "metadata": {},
   "outputs": [],
   "source": [
    "#Testing the histogram we will use for fundeltaT\n",
    "def hist(num_bins, M):\n",
    "    '''\n",
    "    setting up the histogram from which we will select random values of deltaT\n",
    "    '''\n",
    "    rayleigh = numpy.random.rayleigh(meandeltaT, M)\n",
    "    hist, bin_edges = numpy.histogram(rayleigh, bins = num_bins, density = True)\n",
    "    \n",
    "    '''\n",
    "    output the histogram to check that it's been created correctly\n",
    "    '''\n",
    "    plt.hist(hist, num_bins)"
   ]
  },
  {
   "cell_type": "code",
   "execution_count": 47,
   "id": "ba208f91",
   "metadata": {},
   "outputs": [
    {
     "data": {
      "image/png": "[encoded data removed]",
      "text/plain": [
       "<Figure size 432x288 with 1 Axes>"
      ]
     },
     "metadata": {
      "needs_background": "light"
     },
     "output_type": "display_data"
    }
   ],
   "source": [
    "hist(num_bins, M)"
   ]
  },
  {
   "cell_type": "code",
   "execution_count": null,
   "id": "0f0cf350",
   "metadata": {},
   "outputs": [],
   "source": []
  }
 ],
 "metadata": {
  "kernelspec": {
   "display_name": "Python 3",
   "language": "python",
   "name": "python3"
  },
  "language_info": {
   "codemirror_mode": {
    "name": "ipython",
    "version": 3
   },
   "file_extension": ".py",
   "mimetype": "text/x-python",
   "name": "python",
   "nbconvert_exporter": "python",
   "pygments_lexer": "ipython3",
   "version": "3.8.8"
  }
 },
 "nbformat": 4,
 "nbformat_minor": 5
}
