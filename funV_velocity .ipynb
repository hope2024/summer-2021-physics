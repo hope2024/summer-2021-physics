{
 "cells": [
  {
   "cell_type": "markdown",
   "id": "b58b4e1a",
   "metadata": {},
   "source": [
    "# funV – Velocity generating function\n",
    "### Running funV to check that it works and that generated values of V are reasonable"
   ]
  },
  {
   "cell_type": "code",
   "execution_count": 23,
   "id": "e5f17d74",
   "metadata": {},
   "outputs": [
    {
     "data": {
      "text/html": [
       "<style>.container { width:100%!important; }</style>"
      ],
      "text/plain": [
       "<IPython.core.display.HTML object>"
      ]
     },
     "metadata": {},
     "output_type": "display_data"
    }
   ],
   "source": [
    "# Import programs\n",
    "from IPython.core.display import display, HTML\n",
    "display(HTML(\"<style>.container { width:100%!important; }</style>\"))\n",
    "\n",
    "import random\n",
    "import matplotlib.pyplot as plt\n",
    "import numpy as np\n",
    "import math\n",
    "import scipy.interpolate as interpolate\n",
    "\n",
    "num_bins = 200"
   ]
  },
  {
   "cell_type": "code",
   "execution_count": 24,
   "id": "a1b59021",
   "metadata": {},
   "outputs": [],
   "source": [
    "K = 1\n",
    "meandeltaT = np.pi\n",
    "eqmean = 0\n",
    "L = 1\n",
    "M = 10**2\n",
    "J = 200\n",
    "dTau = 2 * np.pi / J\n",
    "std = 0.01\n",
    "Tr = K * meandeltaT"
   ]
  },
  {
   "cell_type": "markdown",
   "id": "bb18312c",
   "metadata": {},
   "source": [
    "## Functions"
   ]
  },
  {
   "cell_type": "code",
   "execution_count": 25,
   "id": "e5dbeb95",
   "metadata": {},
   "outputs": [],
   "source": [
    "# Creates randomly generated array of t between collisions\n",
    "# Time associated with each collision\n",
    "def fundeltaT(num_bins, M, dTau, meandeltaT):\n",
    "    deltaT = []\n",
    "    \n",
    "    # Creates rayleigh distribution\n",
    "    # mode meandeltaT, size M\n",
    "    rayleigh = np.random.rayleigh(meandeltaT, M)\n",
    "    hist, bin_edges = np.histogram(rayleigh, bins = num_bins, density = True)\n",
    "    cum_values = np.zeros(bin_edges.shape)\n",
    "    cum_values[1:] = np.cumsum(hist*np.diff(bin_edges))\n",
    "    inv_cdf = interpolate.interp1d(cum_values, bin_edges)\n",
    "    \n",
    "    for i in range(M):\n",
    "        r = np.random.rand(1)\n",
    "        deltaTtemp = inv_cdf(r)\n",
    "\n",
    "        if (deltaTtemp % dTau < 0.005):\n",
    "            deltaTtemp2 = deltaTtemp - (deltaTtemp % dTau)\n",
    "        else:\n",
    "            deltaTtemp2 = deltaTtemp + dTau - (deltaTtemp % dTau)\n",
    "        \n",
    "        deltaT.append(deltaTtemp2)\n",
    "        \n",
    "    return deltaT\n",
    "\n",
    "# Generating an array of values of V\n",
    "def funV(std, deltaT, eqmean, Tr):\n",
    "    V = []\n",
    "    y1 = 0\n",
    "    \n",
    "    for i in range(len(deltaT) - 1):\n",
    "        Tn = (deltaT[i] + deltaT[i + 1]/2)\n",
    "        \n",
    "        stdevt = ((1 - math.exp(-2 * Tn/Tr)) * std ** 2) ** (1/2)\n",
    "        meant = eqmean + math.exp(-Tn / Tr) * (y1 - eqmean)\n",
    "        \n",
    "        y1 = np.random.normal(meant, stdevt, 2)[0]\n",
    "        V.append(y1)\n",
    "        \n",
    "    return V"
   ]
  },
  {
   "cell_type": "markdown",
   "id": "6815ca8c",
   "metadata": {},
   "source": [
    "## Running Functions and Printing V "
   ]
  },
  {
   "cell_type": "code",
   "execution_count": 26,
   "id": "3628e587",
   "metadata": {},
   "outputs": [
    {
     "name": "stdout",
     "output_type": "stream",
     "text": [
      "[0.007638012333072405, 0.006532132324298027, 0.0028972926835325492, 0.004305370660286628, -0.004196353204710715, -0.01288503255081095, 0.0037547287337125735, 0.014329782467037457, 0.014026178871527661, 0.0045632929577613685, 0.0014889426759453863, 0.007637754913513263, 0.001502879328872968, -0.02363845285665345, -0.00886624661306518, 0.00579145710462033, 0.0010526047202461808, 0.004440606873987994, 0.0019826970958538026, 0.021627456939332376, 0.023267406503925996, 0.01151667517598353, -0.006835938285005921, 0.0029684417265733497, 0.006298205540617198, -0.010964785329702052, -0.013374902896567217, 0.008325636913994973, 0.01259147611692295, 0.01734349213927617, -0.01581389818091645, -0.003453149927530752, -0.009244575999562315, 0.014873254369532216, 0.017489933187853177, -0.013807952966264896, -0.010264558290864489, -0.006257184637337578, 0.006869845940327486, 0.005584355576238173, 0.0030421473938886763, 0.009564185545214212, 0.004909852892683666, 0.006808214808051087, -0.0026719206075868783, 0.007420610184100079, 0.0005050340122490502, 0.011512495807464088, 0.0022681215956587416, -0.004725209734947373, -0.00393306043556247, 0.016725068193552926, -0.0013118014520780213, -0.00520339061820619, 0.0019724936035379723, -0.01348937400865989, -0.004401467576393115, 0.012229127873836308, 0.0033975789098682164, -0.0041027913975739665, 0.007568564971660147, 0.0015779455538222041, -0.0008564870151272392, -0.009458751197490529, -0.012054112711447735, 0.010188738177655074, -0.009414271829453166, 0.006932709879835319, 0.0010875775199239801, -0.006696489957126652, -0.004287843834634767, 0.005836043864563614, 0.009881652119797382, 0.0035282207097014438, 0.0031254017196571822, -0.0042889795822415675, 0.004163398708322583, -0.007623462521154176, 0.015132050026154057, -0.0019438034000738161, -0.010686610859454633, 0.008454642952714184, -0.00748058681726319, -0.003878328637864023, 0.014852778050225677, -0.009667317118612205, 0.007348035369607049, 0.011807229102713174, -0.0014885719326967568, -0.012388592640030963, 0.009938188668682388, -0.0027827523314694373, -0.004330269158983774, 0.00265506785301901, 0.011151306541001663, 0.02158203766186477, -0.007690962029919006, 0.0004984310467041448, -0.013287870274298558]\n"
     ]
    }
   ],
   "source": [
    "deltaT = fundeltaT(num_bins, M, dTau, meandeltaT)\n",
    "V = funV(std, deltaT, eqmean, Tr)\n",
    "\n",
    "print(V)"
   ]
  },
  {
   "cell_type": "code",
   "execution_count": null,
   "id": "f4dcaf03",
   "metadata": {},
   "outputs": [],
   "source": []
  }
 ],
 "metadata": {
  "kernelspec": {
   "display_name": "Python 3",
   "language": "python",
   "name": "python3"
  },
  "language_info": {
   "codemirror_mode": {
    "name": "ipython",
    "version": 3
   },
   "file_extension": ".py",
   "mimetype": "text/x-python",
   "name": "python",
   "nbconvert_exporter": "python",
   "pygments_lexer": "ipython3",
   "version": "3.8.8"
  }
 },
 "nbformat": 4,
 "nbformat_minor": 5
}
