{
 "cells": [
  {
   "cell_type": "markdown",
   "id": "f07cde1e",
   "metadata": {},
   "source": [
    "# A First Draft\n",
    "# Energy evolution, Velocity, "
   ]
  },
  {
   "cell_type": "code",
   "execution_count": null,
   "id": "ce72eadb",
   "metadata": {},
   "outputs": [],
   "source": [
    "from IPython.core.display import display, HTML\n",
    "display(HTML(\"<style>.container { width:100%!important; }</style>\"))\n",
    "\n",
    "import random\n",
    "import matplotlib.pyplot as plt\n",
    "import numpy as np\n",
    "import math\n",
    "import scipy.interpolate as interpolate\n",
    "\n",
    "num_bins = 200\n",
    "axis_font = {'size':'30'}\n",
    "title_font = {'size':'40'}"
   ]
  },
  {
   "cell_type": "code",
   "execution_count": null,
   "id": "c03e6245",
   "metadata": {},
   "outputs": [],
   "source": [
    "K = 1\n",
    "meandeltaT = np.pi\n",
    "eqmean = 0\n",
    "L = 1\n",
    "# num of collisions\n",
    "M = 10**2\n",
    "# time steps\n",
    "J = 200\n",
    "dTau = 2 * np.pi / J\n",
    "Tr = K * meandeltaT\n",
    "\n",
    "# may not need\n",
    "Tmax = 2 * np.pi * M"
   ]
  },
  {
   "cell_type": "code",
   "execution_count": null,
   "id": "cb919e66",
   "metadata": {},
   "outputs": [],
   "source": [
    "initial_BT = 0\n",
    "initial_dBdT = 0"
   ]
  },
  {
   "cell_type": "markdown",
   "id": "70060839",
   "metadata": {},
   "source": [
    "## Graphs "
   ]
  },
  {
   "cell_type": "markdown",
   "id": "cadc987c",
   "metadata": {},
   "source": [
    "## Functions"
   ]
  },
  {
   "cell_type": "code",
   "execution_count": null,
   "id": "2cc39b0f",
   "metadata": {},
   "outputs": [],
   "source": [
    "# Creates randomly generated array of t between collisions\n",
    "# Time associated with each collision\n",
    "def fundeltaT(num_bins, M, dTau):\n",
    "    deltaT = []\n",
    "    \n",
    "    # Creates rayleigh distribution\n",
    "    # mode meandeltaT, size M\n",
    "    rayleigh = numpy.random.rayleigh(meandeltaT, M)\n",
    "    hist, bin_edges = numpy.histogram(rayleigh, bins = num_bins, density = True)\n",
    "    cum_values = numpy.zeros(bin_edges.shape)\n",
    "    cum_values[1:] = numpy.cumsum(hist*numpy.diff(bin_edges))\n",
    "    inv_cdf = interpolate.interp1d(cum_values, bin_edges)\n",
    "    \n",
    "    for i in range(M):\n",
    "        r = numpy.random.rand(1)\n",
    "        deltaTtemp = inv_cdf(r)\n",
    "\n",
    "        if (deltaTtemp % dTau < 0.005):\n",
    "            deltaTtemp2 = deltaTtemp - (deltaTtemp % dTau)\n",
    "        else:\n",
    "            deltaTtemp2 = deltaTtemp + dTau - (deltaTtemp % dTau)\n",
    "        \n",
    "        deltaT.append(deltaTtemp2)\n",
    "        \n",
    "    return deltaT\n",
    "\n",
    "# Generating V\n",
    "def funV(std, limit, deltaT, eqmean):\n",
    "    V = []\n",
    "    y1 = 0\n",
    "    \n",
    "    for i in range(len(deltaT) - 1):\n",
    "        Tn = (deltaT[i] + deltaT[i + 1]/2)\n",
    "        \n",
    "        stdevt = ((1 - math.exp(-2 * Tn/Tr)) * std ** 2) ** (1/2)\n",
    "        meant = eqmean + math.exp(-Tn / Tr) * (y1 - eqmean)\n",
    "        \n",
    "        y1 = np.random.normal(meant, stdevt, 2)[0]\n",
    "        \n",
    "        return V\n",
    "\n",
    "# Generating Amplitude\n",
    "def funNLAmp(D, dtTau, B, dBdT, N0, P0):\n",
    "    Amp = [B]\n",
    "    t = 0.0\n",
    "    amptime = [t]\n",
    "    [u] = dBdt\n",
    "    E = []\n",
    "    \n",
    "    for j in range (0,):\n",
    "        for i in range (0, int(len(deltaT) - 2):\n",
    "            m1 = [u]\n",
    "            k1 = -()"
   ]
  }
 ],
 "metadata": {
  "kernelspec": {
   "display_name": "Python 3",
   "language": "python",
   "name": "python3"
  },
  "language_info": {
   "codemirror_mode": {
    "name": "ipython",
    "version": 3
   },
   "file_extension": ".py",
   "mimetype": "text/x-python",
   "name": "python",
   "nbconvert_exporter": "python",
   "pygments_lexer": "ipython3",
   "version": "3.8.8"
  }
 },
 "nbformat": 4,
 "nbformat_minor": 5
}
