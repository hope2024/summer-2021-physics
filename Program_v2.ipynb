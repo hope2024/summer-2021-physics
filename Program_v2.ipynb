{
 "cells": [
  {
   "cell_type": "markdown",
   "id": "827c8bc9",
   "metadata": {},
   "source": [
    "# funB_dBdt_E – B, dBdt, E generating function\n",
    "\n",
    "# funplots – plotting function\n",
    "### Separately testing funB_dBdt_E and funplots (attempting to plot everything)"
   ]
  },
  {
   "cell_type": "code",
   "execution_count": 78,
   "id": "c467f1c7",
   "metadata": {},
   "outputs": [],
   "source": [
    "# Import programs\n",
    "\n",
    "import random\n",
    "import numpy as np\n",
    "import matplotlib.pyplot as plt\n",
    "import scipy.interpolate as interpolate\n",
    "import math"
   ]
  },
  {
   "cell_type": "code",
   "execution_count": 79,
   "id": "55a23ecd",
   "metadata": {},
   "outputs": [],
   "source": [
    "# Initialize constants for plots\n",
    "num_bins = 200\n",
    "\n",
    "axis_font = {'size':'30'}\n",
    "title_font = {'size':'40'}"
   ]
  },
  {
   "cell_type": "code",
   "execution_count": 104,
   "id": "2fb94552",
   "metadata": {},
   "outputs": [],
   "source": [
    "# Physical parameters\n",
    "meandeltaT = np.pi\n",
    "J = 300\n",
    "dTau = 2 * np.pi / J\n",
    "M = 10 ** 2\n",
    "K = 1\n",
    "N0 = 1\n",
    "P0 = 1\n",
    "Dstar = 10 ** (-6)\n",
    "eps = 0.1\n",
    "std = 0.01\n",
    "eqmean = 0\n",
    "Tr = K * meandeltaT"
   ]
  },
  {
   "cell_type": "code",
   "execution_count": 105,
   "id": "9eab695c",
   "metadata": {},
   "outputs": [],
   "source": [
    "# Initial conditions\n",
    "initial_B = 0\n",
    "initial_u = 0"
   ]
  },
  {
   "cell_type": "code",
   "execution_count": 106,
   "id": "985a235c",
   "metadata": {},
   "outputs": [],
   "source": [
    "# function that generates an array of values of DeltaT, time b/t collisions\n",
    "def fundeltaT(num_bins, M, dTau):\n",
    "    deltaT = []\n",
    "    \n",
    "    rayleigh = np.random.rayleigh(meandeltaT, M)\n",
    "    hist, bin_edges = np.histogram(rayleigh, bins = num_bins, density = True)\n",
    "    cum_values = np.zeros(bin_edges.shape)\n",
    "    cum_values[1:] = np.cumsum(hist*np.diff(bin_edges))\n",
    "    inv_cdf = interpolate.interp1d(cum_values, bin_edges)\n",
    "    \n",
    "    for i in range(M):\n",
    "        r = np.random.rand(1)\n",
    "        deltaTtemp = inv_cdf(r)\n",
    "\n",
    "        if (deltaTtemp % dTau < 0.005):\n",
    "            deltaTtemp2 = deltaTtemp - (deltaTtemp % dTau)\n",
    "        else:\n",
    "            deltaTtemp2 = deltaTtemp + dTau - (deltaTtemp % dTau)\n",
    "        deltaT.append(deltaTtemp2)\n",
    "    \n",
    "    return deltaT"
   ]
  },
  {
   "cell_type": "code",
   "execution_count": 107,
   "id": "f9ba8dd4",
   "metadata": {},
   "outputs": [],
   "source": [
    "# Generating an array of values of V\n",
    "def funV(std, deltaT, eqmean, Tr):\n",
    "    V = []\n",
    "    y1 = 0\n",
    "    \n",
    "    for i in range(len(deltaT) - 1):\n",
    "        Tn = (deltaT[i] + deltaT[i + 1]/2)\n",
    "        \n",
    "        stdevt = ((1 - math.exp(-2 * Tn/Tr)) * std ** 2) ** (1/2)\n",
    "        meant = eqmean + math.exp(-Tn / Tr) * (y1 - eqmean)\n",
    "        \n",
    "        y1 = np.random.normal(meant, stdevt, 2)[0]\n",
    "        V.append(y1)\n",
    "        \n",
    "    return V"
   ]
  },
  {
   "cell_type": "code",
   "execution_count": 110,
   "id": "5fe1568e",
   "metadata": {},
   "outputs": [],
   "source": [
    "# generating array of values of B and dB/dT\n",
    "def funB_dBdt_E(Dstar, dTau, B, N0, P0, deltaT, M, eps, V, u):\n",
    "    # created using Heun's method of integration \n",
    "\n",
    "    dBdt = [u]\n",
    "    Amp = [B]\n",
    "    t = 0.0\n",
    "    amptime = [t]\n",
    "    E = []\n",
    "    \n",
    "    #nested loops for every collision and subsequently each value of deltaT   \n",
    "    for i in range(0, M):\n",
    "        \n",
    "        for j in range(0, len(deltaT) - 1):\n",
    "            m1 = u\n",
    "            k1 = - (Dstar * u) - B  - (N0 * B**2) - (P0 * B**3)\n",
    "            m2 = u + dTau * k1\n",
    "            B_2 = B + dTau * m1\n",
    "            u_2 = m2\n",
    "            k2 = - Dstar * u_2 - B_2 - (N0 * B_2**2) - (P0 * B_2**3)\n",
    "            m2 = u + dTau * k2\n",
    "            t = t + dTau\n",
    "            B += (dTau / 2) * (m1 + m2)\n",
    "            u += (dTau / 2) * (k1 + k2)\n",
    "            \n",
    "            # include? needed in outer loop?\n",
    "            if math.isnan(B) or abs(B) > 1:\n",
    "                break\n",
    "                \n",
    "            Amp.append(B)\n",
    "            amptime.append(t)\n",
    "            E.append((1/2 * u**2) + (1/2 * B**2) + (1/3 * N0 * B**3) + (1/4 * P0 * B**4))\n",
    "    \n",
    "        # Equation 9\n",
    "        # Returns dBdt from previous collision\n",
    "        V_i = V[i]\n",
    "        dbdtf = u\n",
    "        u = dbdtf + 2 * eps * (V_i - dbdtf)\n",
    "        dBdt.append(u)    \n",
    "            \n",
    "    \n",
    "    return Amp, amptime, E, dBdt"
   ]
  },
  {
   "cell_type": "code",
   "execution_count": 111,
   "id": "31ef13ab",
   "metadata": {},
   "outputs": [
    {
     "ename": "TypeError",
     "evalue": "'list' object cannot be interpreted as an integer",
     "output_type": "error",
     "traceback": [
      "\u001b[0;31m---------------------------------------------------------------------------\u001b[0m",
      "\u001b[0;31mTypeError\u001b[0m                                 Traceback (most recent call last)",
      "\u001b[0;32m<ipython-input-111-8a333b2a6354>\u001b[0m in \u001b[0;36m<module>\u001b[0;34m\u001b[0m\n\u001b[1;32m      2\u001b[0m \u001b[0mdeltaT\u001b[0m \u001b[0;34m=\u001b[0m \u001b[0mfundeltaT\u001b[0m\u001b[0;34m(\u001b[0m\u001b[0mnum_bins\u001b[0m\u001b[0;34m,\u001b[0m \u001b[0mM\u001b[0m\u001b[0;34m,\u001b[0m \u001b[0mdTau\u001b[0m\u001b[0;34m)\u001b[0m\u001b[0;34m\u001b[0m\u001b[0;34m\u001b[0m\u001b[0m\n\u001b[1;32m      3\u001b[0m \u001b[0mV\u001b[0m \u001b[0;34m=\u001b[0m \u001b[0mfunV\u001b[0m\u001b[0;34m(\u001b[0m\u001b[0mstd\u001b[0m\u001b[0;34m,\u001b[0m \u001b[0mdeltaT\u001b[0m\u001b[0;34m,\u001b[0m \u001b[0meqmean\u001b[0m\u001b[0;34m,\u001b[0m \u001b[0mTr\u001b[0m\u001b[0;34m)\u001b[0m\u001b[0;34m\u001b[0m\u001b[0;34m\u001b[0m\u001b[0m\n\u001b[0;32m----> 4\u001b[0;31m \u001b[0mAmp\u001b[0m\u001b[0;34m,\u001b[0m \u001b[0mamptime\u001b[0m\u001b[0;34m,\u001b[0m \u001b[0mE\u001b[0m\u001b[0;34m,\u001b[0m \u001b[0mdBdt\u001b[0m \u001b[0;34m=\u001b[0m \u001b[0mfunB_dBdt_E\u001b[0m\u001b[0;34m(\u001b[0m\u001b[0mDstar\u001b[0m\u001b[0;34m,\u001b[0m \u001b[0mdTau\u001b[0m\u001b[0;34m,\u001b[0m \u001b[0minitial_B\u001b[0m\u001b[0;34m,\u001b[0m \u001b[0minitial_u\u001b[0m\u001b[0;34m,\u001b[0m \u001b[0mN0\u001b[0m\u001b[0;34m,\u001b[0m \u001b[0mP0\u001b[0m\u001b[0;34m,\u001b[0m \u001b[0mdeltaT\u001b[0m\u001b[0;34m,\u001b[0m \u001b[0mM\u001b[0m\u001b[0;34m,\u001b[0m \u001b[0meps\u001b[0m\u001b[0;34m,\u001b[0m \u001b[0mV\u001b[0m\u001b[0;34m)\u001b[0m\u001b[0;34m\u001b[0m\u001b[0;34m\u001b[0m\u001b[0m\n\u001b[0m\u001b[1;32m      5\u001b[0m \u001b[0;34m\u001b[0m\u001b[0m\n\u001b[1;32m      6\u001b[0m \u001b[0;31m# printing B, dBdt, and E values\u001b[0m\u001b[0;34m\u001b[0m\u001b[0;34m\u001b[0m\u001b[0;34m\u001b[0m\u001b[0m\n",
      "\u001b[0;32m<ipython-input-110-a91e32a0d64a>\u001b[0m in \u001b[0;36mfunB_dBdt_E\u001b[0;34m(Dstar, dTau, B, N0, P0, deltaT, M, eps, V, u)\u001b[0m\n\u001b[1;32m     12\u001b[0m \u001b[0;34m\u001b[0m\u001b[0m\n\u001b[1;32m     13\u001b[0m     \u001b[0;31m#nested loops for every collision and subsequently each value of deltaT\u001b[0m\u001b[0;34m\u001b[0m\u001b[0;34m\u001b[0m\u001b[0;34m\u001b[0m\u001b[0m\n\u001b[0;32m---> 14\u001b[0;31m     \u001b[0;32mfor\u001b[0m \u001b[0mi\u001b[0m \u001b[0;32min\u001b[0m \u001b[0mrange\u001b[0m\u001b[0;34m(\u001b[0m\u001b[0;36m0\u001b[0m\u001b[0;34m,\u001b[0m \u001b[0mM\u001b[0m\u001b[0;34m)\u001b[0m\u001b[0;34m:\u001b[0m\u001b[0;34m\u001b[0m\u001b[0;34m\u001b[0m\u001b[0m\n\u001b[0m\u001b[1;32m     15\u001b[0m \u001b[0;34m\u001b[0m\u001b[0m\n\u001b[1;32m     16\u001b[0m         \u001b[0;32mfor\u001b[0m \u001b[0mj\u001b[0m \u001b[0;32min\u001b[0m \u001b[0mrange\u001b[0m\u001b[0;34m(\u001b[0m\u001b[0;36m0\u001b[0m\u001b[0;34m,\u001b[0m \u001b[0mlen\u001b[0m\u001b[0;34m(\u001b[0m\u001b[0mdeltaT\u001b[0m\u001b[0;34m)\u001b[0m \u001b[0;34m-\u001b[0m \u001b[0;36m1\u001b[0m\u001b[0;34m)\u001b[0m\u001b[0;34m:\u001b[0m\u001b[0;34m\u001b[0m\u001b[0;34m\u001b[0m\u001b[0m\n",
      "\u001b[0;31mTypeError\u001b[0m: 'list' object cannot be interpreted as an integer"
     ]
    }
   ],
   "source": [
    "# running functions for sample plot  \n",
    "deltaT = fundeltaT(num_bins, M, dTau)\n",
    "V = funV(std, deltaT, eqmean, Tr)\n",
    "Amp, amptime, E, dBdt = funB_dBdt_E(Dstar, dTau, initial_B, initial_u, N0, P0, deltaT, M, eps, V)\n",
    "\n",
    "# printing B, dBdt, and E values\n",
    "print(Amp)\n",
    "print(dBdt)\n",
    "print(E)"
   ]
  },
  {
   "cell_type": "code",
   "execution_count": 30,
   "id": "cc08223a",
   "metadata": {},
   "outputs": [],
   "source": [
    "def funplots (amptime, E, Amp, V, dBdt, deltaT):\n",
    "    fig, axs = plt.subplots(4, 1, figsize=(30,10))\n",
    "    fig.subplots_adjust(hspace=0) \n",
    "\n",
    "    axs[3].plot(amptime, dBdt, 'k')\n",
    "    axs[3].set_ylabel('dBdt', **axis_font)\n",
    "    axs[3].set_xlabel('T', **axis_font)\n",
    "    axs[3].tick_params(axis = 'both', labelsize = 15)\n",
    "    \n",
    "    axs[2].plot(deltaT, V, 'k')\n",
    "    axs[2].set_ylabel('V', **axis_font)\n",
    "    axs[2].set_xlabel('T', **axis_font)\n",
    "    axs[2].tick_params(axis = 'both', labelsize = 15)\n",
    "    \n",
    "    axs[1].plot(amptime, Amp, 'k')\n",
    "    axs[1].set_ylabel('B', **axis_font)\n",
    "    axs[1].set_xlabel('T', **axis_font)\n",
    "    axs[1].tick_params(axis = 'both', labelsize = 15)\n",
    "    \n",
    "    axs[0].plot(amptime, E, 'k')\n",
    "    axs[0].set_ylabel('E', **axis_font)\n",
    "    axs[0].set_xlabel('T', **axis_font)\n",
    "    axs[0].tick_params(axis = 'both', labelsize = 15)\n",
    "    \n",
    "    plt.show()\n"
   ]
  },
  {
   "cell_type": "code",
   "execution_count": 11,
   "id": "b7de750f",
   "metadata": {},
   "outputs": [
    {
     "ename": "ZeroDivisionError",
     "evalue": "integer division or modulo by zero",
     "output_type": "error",
     "traceback": [
      "\u001b[0;31m---------------------------------------------------------------------------\u001b[0m",
      "\u001b[0;31mZeroDivisionError\u001b[0m                         Traceback (most recent call last)",
      "\u001b[0;32m<ipython-input-11-d2c4c6501603>\u001b[0m in \u001b[0;36m<module>\u001b[0;34m\u001b[0m\n\u001b[0;32m----> 1\u001b[0;31m \u001b[0mfunplots\u001b[0m\u001b[0;34m(\u001b[0m\u001b[0mamptime\u001b[0m\u001b[0;34m,\u001b[0m \u001b[0mE\u001b[0m\u001b[0;34m,\u001b[0m \u001b[0mAmp\u001b[0m\u001b[0;34m,\u001b[0m \u001b[0mV\u001b[0m\u001b[0;34m,\u001b[0m \u001b[0mdBdt\u001b[0m\u001b[0;34m,\u001b[0m \u001b[0mdeltaT\u001b[0m\u001b[0;34m)\u001b[0m\u001b[0;34m\u001b[0m\u001b[0;34m\u001b[0m\u001b[0m\n\u001b[0m",
      "\u001b[0;32m<ipython-input-10-1fd82c03089e>\u001b[0m in \u001b[0;36mfunplots\u001b[0;34m(amptime, E, Amp, V, dBdt, deltaT)\u001b[0m\n\u001b[1;32m      5\u001b[0m \u001b[0;34m\u001b[0m\u001b[0m\n\u001b[1;32m      6\u001b[0m     \u001b[0;31m# Plot each graph, and manually set the y tick values\u001b[0m\u001b[0;34m\u001b[0m\u001b[0;34m\u001b[0m\u001b[0;34m\u001b[0m\u001b[0m\n\u001b[0;32m----> 7\u001b[0;31m     \u001b[0maxs\u001b[0m\u001b[0;34m[\u001b[0m\u001b[0;36m3\u001b[0m\u001b[0;34m]\u001b[0m\u001b[0;34m.\u001b[0m\u001b[0mplot\u001b[0m\u001b[0;34m(\u001b[0m\u001b[0mamptime\u001b[0m\u001b[0;34m,\u001b[0m \u001b[0mdBdt\u001b[0m\u001b[0;34m,\u001b[0m \u001b[0;34m'k'\u001b[0m\u001b[0;34m)\u001b[0m\u001b[0;34m\u001b[0m\u001b[0;34m\u001b[0m\u001b[0m\n\u001b[0m\u001b[1;32m      8\u001b[0m     \u001b[0maxs\u001b[0m\u001b[0;34m[\u001b[0m\u001b[0;36m3\u001b[0m\u001b[0;34m]\u001b[0m\u001b[0;34m.\u001b[0m\u001b[0mset_ylabel\u001b[0m\u001b[0;34m(\u001b[0m\u001b[0;34m'dBdt'\u001b[0m\u001b[0;34m,\u001b[0m \u001b[0;34m**\u001b[0m\u001b[0maxis_font\u001b[0m\u001b[0;34m)\u001b[0m\u001b[0;34m\u001b[0m\u001b[0;34m\u001b[0m\u001b[0m\n\u001b[1;32m      9\u001b[0m     \u001b[0maxs\u001b[0m\u001b[0;34m[\u001b[0m\u001b[0;36m3\u001b[0m\u001b[0;34m]\u001b[0m\u001b[0;34m.\u001b[0m\u001b[0mset_xlabel\u001b[0m\u001b[0;34m(\u001b[0m\u001b[0;34m'T'\u001b[0m\u001b[0;34m,\u001b[0m \u001b[0;34m**\u001b[0m\u001b[0maxis_font\u001b[0m\u001b[0;34m)\u001b[0m\u001b[0;34m\u001b[0m\u001b[0;34m\u001b[0m\u001b[0m\n",
      "\u001b[0;32m~/opt/anaconda3/lib/python3.8/site-packages/matplotlib/axes/_axes.py\u001b[0m in \u001b[0;36mplot\u001b[0;34m(self, scalex, scaley, data, *args, **kwargs)\u001b[0m\n\u001b[1;32m   1741\u001b[0m         \"\"\"\n\u001b[1;32m   1742\u001b[0m         \u001b[0mkwargs\u001b[0m \u001b[0;34m=\u001b[0m \u001b[0mcbook\u001b[0m\u001b[0;34m.\u001b[0m\u001b[0mnormalize_kwargs\u001b[0m\u001b[0;34m(\u001b[0m\u001b[0mkwargs\u001b[0m\u001b[0;34m,\u001b[0m \u001b[0mmlines\u001b[0m\u001b[0;34m.\u001b[0m\u001b[0mLine2D\u001b[0m\u001b[0;34m)\u001b[0m\u001b[0;34m\u001b[0m\u001b[0;34m\u001b[0m\u001b[0m\n\u001b[0;32m-> 1743\u001b[0;31m         \u001b[0mlines\u001b[0m \u001b[0;34m=\u001b[0m \u001b[0;34m[\u001b[0m\u001b[0;34m*\u001b[0m\u001b[0mself\u001b[0m\u001b[0;34m.\u001b[0m\u001b[0m_get_lines\u001b[0m\u001b[0;34m(\u001b[0m\u001b[0;34m*\u001b[0m\u001b[0margs\u001b[0m\u001b[0;34m,\u001b[0m \u001b[0mdata\u001b[0m\u001b[0;34m=\u001b[0m\u001b[0mdata\u001b[0m\u001b[0;34m,\u001b[0m \u001b[0;34m**\u001b[0m\u001b[0mkwargs\u001b[0m\u001b[0;34m)\u001b[0m\u001b[0;34m]\u001b[0m\u001b[0;34m\u001b[0m\u001b[0;34m\u001b[0m\u001b[0m\n\u001b[0m\u001b[1;32m   1744\u001b[0m         \u001b[0;32mfor\u001b[0m \u001b[0mline\u001b[0m \u001b[0;32min\u001b[0m \u001b[0mlines\u001b[0m\u001b[0;34m:\u001b[0m\u001b[0;34m\u001b[0m\u001b[0;34m\u001b[0m\u001b[0m\n\u001b[1;32m   1745\u001b[0m             \u001b[0mself\u001b[0m\u001b[0;34m.\u001b[0m\u001b[0madd_line\u001b[0m\u001b[0;34m(\u001b[0m\u001b[0mline\u001b[0m\u001b[0;34m)\u001b[0m\u001b[0;34m\u001b[0m\u001b[0;34m\u001b[0m\u001b[0m\n",
      "\u001b[0;32m~/opt/anaconda3/lib/python3.8/site-packages/matplotlib/axes/_base.py\u001b[0m in \u001b[0;36m__call__\u001b[0;34m(self, data, *args, **kwargs)\u001b[0m\n\u001b[1;32m    271\u001b[0m                 \u001b[0mthis\u001b[0m \u001b[0;34m+=\u001b[0m \u001b[0margs\u001b[0m\u001b[0;34m[\u001b[0m\u001b[0;36m0\u001b[0m\u001b[0;34m]\u001b[0m\u001b[0;34m,\u001b[0m\u001b[0;34m\u001b[0m\u001b[0;34m\u001b[0m\u001b[0m\n\u001b[1;32m    272\u001b[0m                 \u001b[0margs\u001b[0m \u001b[0;34m=\u001b[0m \u001b[0margs\u001b[0m\u001b[0;34m[\u001b[0m\u001b[0;36m1\u001b[0m\u001b[0;34m:\u001b[0m\u001b[0;34m]\u001b[0m\u001b[0;34m\u001b[0m\u001b[0;34m\u001b[0m\u001b[0m\n\u001b[0;32m--> 273\u001b[0;31m             \u001b[0;32myield\u001b[0m \u001b[0;32mfrom\u001b[0m \u001b[0mself\u001b[0m\u001b[0;34m.\u001b[0m\u001b[0m_plot_args\u001b[0m\u001b[0;34m(\u001b[0m\u001b[0mthis\u001b[0m\u001b[0;34m,\u001b[0m \u001b[0mkwargs\u001b[0m\u001b[0;34m)\u001b[0m\u001b[0;34m\u001b[0m\u001b[0;34m\u001b[0m\u001b[0m\n\u001b[0m\u001b[1;32m    274\u001b[0m \u001b[0;34m\u001b[0m\u001b[0m\n\u001b[1;32m    275\u001b[0m     \u001b[0;32mdef\u001b[0m \u001b[0mget_next_color\u001b[0m\u001b[0;34m(\u001b[0m\u001b[0mself\u001b[0m\u001b[0;34m)\u001b[0m\u001b[0;34m:\u001b[0m\u001b[0;34m\u001b[0m\u001b[0;34m\u001b[0m\u001b[0m\n",
      "\u001b[0;32m~/opt/anaconda3/lib/python3.8/site-packages/matplotlib/axes/_base.py\u001b[0m in \u001b[0;36m_plot_args\u001b[0;34m(self, tup, kwargs)\u001b[0m\n\u001b[1;32m    416\u001b[0m         \u001b[0;32mif\u001b[0m \u001b[0mncx\u001b[0m \u001b[0;34m>\u001b[0m \u001b[0;36m1\u001b[0m \u001b[0;32mand\u001b[0m \u001b[0mncy\u001b[0m \u001b[0;34m>\u001b[0m \u001b[0;36m1\u001b[0m \u001b[0;32mand\u001b[0m \u001b[0mncx\u001b[0m \u001b[0;34m!=\u001b[0m \u001b[0mncy\u001b[0m\u001b[0;34m:\u001b[0m\u001b[0;34m\u001b[0m\u001b[0;34m\u001b[0m\u001b[0m\n\u001b[1;32m    417\u001b[0m             \u001b[0;32mraise\u001b[0m \u001b[0mValueError\u001b[0m\u001b[0;34m(\u001b[0m\u001b[0;34mf\"x has {ncx} columns but y has {ncy} columns\"\u001b[0m\u001b[0;34m)\u001b[0m\u001b[0;34m\u001b[0m\u001b[0;34m\u001b[0m\u001b[0m\n\u001b[0;32m--> 418\u001b[0;31m         return [func(x[:, j % ncx], y[:, j % ncy], kw, kwargs)\n\u001b[0m\u001b[1;32m    419\u001b[0m                 for j in range(max(ncx, ncy))]\n\u001b[1;32m    420\u001b[0m \u001b[0;34m\u001b[0m\u001b[0m\n",
      "\u001b[0;32m~/opt/anaconda3/lib/python3.8/site-packages/matplotlib/axes/_base.py\u001b[0m in \u001b[0;36m<listcomp>\u001b[0;34m(.0)\u001b[0m\n\u001b[1;32m    416\u001b[0m         \u001b[0;32mif\u001b[0m \u001b[0mncx\u001b[0m \u001b[0;34m>\u001b[0m \u001b[0;36m1\u001b[0m \u001b[0;32mand\u001b[0m \u001b[0mncy\u001b[0m \u001b[0;34m>\u001b[0m \u001b[0;36m1\u001b[0m \u001b[0;32mand\u001b[0m \u001b[0mncx\u001b[0m \u001b[0;34m!=\u001b[0m \u001b[0mncy\u001b[0m\u001b[0;34m:\u001b[0m\u001b[0;34m\u001b[0m\u001b[0;34m\u001b[0m\u001b[0m\n\u001b[1;32m    417\u001b[0m             \u001b[0;32mraise\u001b[0m \u001b[0mValueError\u001b[0m\u001b[0;34m(\u001b[0m\u001b[0;34mf\"x has {ncx} columns but y has {ncy} columns\"\u001b[0m\u001b[0;34m)\u001b[0m\u001b[0;34m\u001b[0m\u001b[0;34m\u001b[0m\u001b[0m\n\u001b[0;32m--> 418\u001b[0;31m         return [func(x[:, j % ncx], y[:, j % ncy], kw, kwargs)\n\u001b[0m\u001b[1;32m    419\u001b[0m                 for j in range(max(ncx, ncy))]\n\u001b[1;32m    420\u001b[0m \u001b[0;34m\u001b[0m\u001b[0m\n",
      "\u001b[0;31mZeroDivisionError\u001b[0m: integer division or modulo by zero"
     ]
    },
    {
     "data": {
      "image/png": "[encoded data removed]",
      "text/plain": [
       "<Figure size 2160x720 with 4 Axes>"
      ]
     },
     "metadata": {
      "needs_background": "light"
     },
     "output_type": "display_data"
    }
   ],
   "source": [
    "funplots(amptime, E, Amp, V, dBdt, deltaT)"
   ]
  },
  {
   "cell_type": "code",
   "execution_count": null,
   "id": "f07068bd",
   "metadata": {},
   "outputs": [],
   "source": []
  }
 ],
 "metadata": {
  "kernelspec": {
   "display_name": "Python 3",
   "language": "python",
   "name": "python3"
  },
  "language_info": {
   "codemirror_mode": {
    "name": "ipython",
    "version": 3
   },
   "file_extension": ".py",
   "mimetype": "text/x-python",
   "name": "python",
   "nbconvert_exporter": "python",
   "pygments_lexer": "ipython3",
   "version": "3.8.8"
  }
 },
 "nbformat": 4,
 "nbformat_minor": 5
}
