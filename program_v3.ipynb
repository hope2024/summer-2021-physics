{
 "cells": [
  {
   "cell_type": "markdown",
   "id": "827c8bc9",
   "metadata": {},
   "source": [
    "# Generating graphs of E vs. t, B vs. t, and V vs. t\n",
    "\n",
    "# M = 10^6, D* = 10^(-6), P0 = 0"
   ]
  },
  {
   "cell_type": "markdown",
   "id": "8d78c455",
   "metadata": {},
   "source": [
    "## Program Setup"
   ]
  },
  {
   "cell_type": "code",
   "execution_count": 11,
   "id": "c467f1c7",
   "metadata": {},
   "outputs": [],
   "source": [
    "# Import programs\n",
    "\n",
    "import random\n",
    "import numpy as np\n",
    "import matplotlib.pyplot as plt\n",
    "import scipy.interpolate as interpolate\n",
    "import math"
   ]
  },
  {
   "cell_type": "code",
   "execution_count": 12,
   "id": "55a23ecd",
   "metadata": {},
   "outputs": [],
   "source": [
    "# Initialize constants for plots\n",
    "num_bins = 200\n",
    "\n",
    "axis_font = {'size':'40'}\n",
    "title_font = {'size':'40'}"
   ]
  },
  {
   "cell_type": "code",
   "execution_count": 13,
   "id": "2fb94552",
   "metadata": {},
   "outputs": [],
   "source": [
    "# Physical parameters\n",
    "meandeltaT = np.pi\n",
    "J = 300\n",
    "dTau = 2 * np.pi / J\n",
    "M = 10 ** 6\n",
    "K = 1\n",
    "N0 = 1\n",
    "P0 = 0\n",
    "Dstar = 10 ** (-6)\n",
    "eps = 0.1\n",
    "std = 0.01\n",
    "eqmean = 0\n",
    "Tr = K * meandeltaT"
   ]
  },
  {
   "cell_type": "code",
   "execution_count": 14,
   "id": "9eab695c",
   "metadata": {},
   "outputs": [],
   "source": [
    "# Initial conditions\n",
    "initial_B = 0\n",
    "initial_u = 0"
   ]
  },
  {
   "cell_type": "markdown",
   "id": "28db92ce",
   "metadata": {},
   "source": [
    "## Functions"
   ]
  },
  {
   "cell_type": "code",
   "execution_count": 15,
   "id": "985a235c",
   "metadata": {},
   "outputs": [],
   "source": [
    "# function that generates an array of values of DeltaT, time b/t collisions\n",
    "def fundeltaT(num_bins, M, dTau):\n",
    "    deltaT = []\n",
    "    \n",
    "    rayleigh = np.random.rayleigh(meandeltaT, M)\n",
    "    hist, bin_edges = np.histogram(rayleigh, bins = num_bins, density = True)\n",
    "    cum_values = np.zeros(bin_edges.shape)\n",
    "    cum_values[1:] = np.cumsum(hist*np.diff(bin_edges))\n",
    "    inv_cdf = interpolate.interp1d(cum_values, bin_edges)\n",
    "    \n",
    "    for i in range(M):\n",
    "        r = np.random.rand(1)\n",
    "        deltaTtemp = inv_cdf(r)\n",
    "\n",
    "        if (deltaTtemp % dTau < 0.005):\n",
    "            deltaTtemp2 = deltaTtemp - (deltaTtemp % dTau)\n",
    "        else:\n",
    "            deltaTtemp2 = deltaTtemp + dTau - (deltaTtemp % dTau)\n",
    "        deltaT.append(deltaTtemp2)\n",
    "    \n",
    "    return deltaT"
   ]
  },
  {
   "cell_type": "code",
   "execution_count": 16,
   "id": "f9ba8dd4",
   "metadata": {},
   "outputs": [],
   "source": [
    "# Generating an array of values of V\n",
    "def funV(std, deltaT, eqmean, Tr):\n",
    "    V = []\n",
    "    y1 = 0\n",
    "    \n",
    "    for i in range(len(deltaT) - 1):\n",
    "        Tn = (deltaT[i] + deltaT[i + 1]/2)\n",
    "        \n",
    "        stdevt = ((1 - math.exp(-2 * Tn/Tr)) * std ** 2) ** (1/2)\n",
    "        meant = eqmean + math.exp(-Tn / Tr) * (y1 - eqmean)\n",
    "        \n",
    "        y1 = np.random.normal(meant, stdevt, 2)[0]\n",
    "        V.append(y1)\n",
    "        \n",
    "    return V"
   ]
  },
  {
   "cell_type": "code",
   "execution_count": 17,
   "id": "5fe1568e",
   "metadata": {},
   "outputs": [],
   "source": [
    "# generating array of values of B and E\n",
    "def funB_E(Dstar, dTau, B, N0, P0, deltaT, M, eps, V, u):\n",
    "    # created using Heun's method of integration \n",
    "        \n",
    "    Amp = [B]\n",
    "    t = 0.0\n",
    "    amptime = [t]\n",
    "    E = []\n",
    "    \n",
    "    for i in range (0, M - 1):\n",
    "        \n",
    "        for j in range(0, len(deltaT) - 1):\n",
    "            m1 = u\n",
    "            k1 = - (Dstar * u) - B  - (N0 * B**2) - (P0 * B**3)\n",
    "            m2 = u + dTau * k1\n",
    "            B_2 = B + dTau * m1\n",
    "            u_2 = m2\n",
    "            k2 = - Dstar * u_2 - B_2 - (N0 * B_2**2) - (P0 * B_2**3)\n",
    "            m2 = u + dTau * k2\n",
    "            t = t + dTau\n",
    "            B += (dTau / 2) * (m1 + m2)\n",
    "            u += (dTau / 2) * (k1 + k2)\n",
    "\n",
    "            # include? needed in outer loop?\n",
    "            if math.isnan(B) or abs(B) > 1:\n",
    "                break\n",
    "\n",
    "            Amp.append(B)\n",
    "            amptime.append(t)\n",
    "            E.append((1/2 * u**2) + (1/2 * B**2) + (1/3 * N0 * B**3) + (1/4 * P0 * B**4))\n",
    "        \n",
    "        V_i = V[i]\n",
    "        dbdtf = u\n",
    "        u = dbdtf + 2 * eps * (V_i - dbdtf)\n",
    "    \n",
    "    return Amp, amptime, E"
   ]
  },
  {
   "cell_type": "code",
   "execution_count": 18,
   "id": "cc08223a",
   "metadata": {},
   "outputs": [],
   "source": [
    "def funplots(amptime, E, Amp, V):\n",
    "    fig, axs = plt.subplots(3, 1, figsize=(40,15))\n",
    "    fig.subplots_adjust(hspace=0) \n",
    "    \n",
    "    axs[2].plot(amptime[:99], V, '.k')\n",
    "    axs[2].set_ylabel('V', **axis_font)\n",
    "    axs[2].set_xlabel('T', **axis_font)\n",
    "    axs[2].tick_params(axis = 'both', labelsize = 20)\n",
    "    \n",
    "    axs[1].plot(amptime, Amp, 'k')\n",
    "    axs[1].set_ylabel('B', **axis_font)\n",
    "    axs[1].set_xlabel('T', **axis_font)\n",
    "    axs[1].tick_params(axis = 'both', labelsize = 20)\n",
    "    \n",
    "    axs[0].plot(amptime[:-1], E, 'k')\n",
    "    axs[0].set_ylabel('E', **axis_font)\n",
    "    axs[0].set_xlabel('T', **axis_font)\n",
    "    axs[0].tick_params(axis = 'both', labelsize = 20)\n",
    "    \n",
    "    plt.show()\n"
   ]
  },
  {
   "cell_type": "markdown",
   "id": "1774d24c",
   "metadata": {},
   "source": [
    "## Generating Graphs"
   ]
  },
  {
   "cell_type": "code",
   "execution_count": 19,
   "id": "31ef13ab",
   "metadata": {},
   "outputs": [
    {
     "ename": "KeyboardInterrupt",
     "evalue": "",
     "output_type": "error",
     "traceback": [
      "\u001b[0;31m---------------------------------------------------------------------------\u001b[0m",
      "\u001b[0;31mKeyboardInterrupt\u001b[0m                         Traceback (most recent call last)",
      "\u001b[0;32m<ipython-input-19-89fa8ec89af9>\u001b[0m in \u001b[0;36m<module>\u001b[0;34m\u001b[0m\n\u001b[1;32m      2\u001b[0m \u001b[0mdeltaT\u001b[0m \u001b[0;34m=\u001b[0m \u001b[0mfundeltaT\u001b[0m\u001b[0;34m(\u001b[0m\u001b[0mnum_bins\u001b[0m\u001b[0;34m,\u001b[0m \u001b[0mM\u001b[0m\u001b[0;34m,\u001b[0m \u001b[0mdTau\u001b[0m\u001b[0;34m)\u001b[0m\u001b[0;34m\u001b[0m\u001b[0;34m\u001b[0m\u001b[0m\n\u001b[1;32m      3\u001b[0m \u001b[0mV\u001b[0m \u001b[0;34m=\u001b[0m \u001b[0mfunV\u001b[0m\u001b[0;34m(\u001b[0m\u001b[0mstd\u001b[0m\u001b[0;34m,\u001b[0m \u001b[0mdeltaT\u001b[0m\u001b[0;34m,\u001b[0m \u001b[0meqmean\u001b[0m\u001b[0;34m,\u001b[0m \u001b[0mTr\u001b[0m\u001b[0;34m)\u001b[0m\u001b[0;34m\u001b[0m\u001b[0;34m\u001b[0m\u001b[0m\n\u001b[0;32m----> 4\u001b[0;31m \u001b[0mAmp\u001b[0m\u001b[0;34m,\u001b[0m \u001b[0mamptime\u001b[0m\u001b[0;34m,\u001b[0m \u001b[0mE\u001b[0m \u001b[0;34m=\u001b[0m \u001b[0mfunB_E\u001b[0m\u001b[0;34m(\u001b[0m\u001b[0mDstar\u001b[0m\u001b[0;34m,\u001b[0m \u001b[0mdTau\u001b[0m\u001b[0;34m,\u001b[0m \u001b[0minitial_B\u001b[0m\u001b[0;34m,\u001b[0m \u001b[0mN0\u001b[0m\u001b[0;34m,\u001b[0m \u001b[0mP0\u001b[0m\u001b[0;34m,\u001b[0m \u001b[0mdeltaT\u001b[0m\u001b[0;34m,\u001b[0m \u001b[0mM\u001b[0m\u001b[0;34m,\u001b[0m \u001b[0meps\u001b[0m\u001b[0;34m,\u001b[0m \u001b[0mV\u001b[0m\u001b[0;34m,\u001b[0m \u001b[0minitial_u\u001b[0m\u001b[0;34m)\u001b[0m\u001b[0;34m\u001b[0m\u001b[0;34m\u001b[0m\u001b[0m\n\u001b[0m",
      "\u001b[0;32m<ipython-input-17-d25cc038f85d>\u001b[0m in \u001b[0;36mfunB_E\u001b[0;34m(Dstar, dTau, B, N0, P0, deltaT, M, eps, V, u)\u001b[0m\n\u001b[1;32m     28\u001b[0m             \u001b[0mAmp\u001b[0m\u001b[0;34m.\u001b[0m\u001b[0mappend\u001b[0m\u001b[0;34m(\u001b[0m\u001b[0mB\u001b[0m\u001b[0;34m)\u001b[0m\u001b[0;34m\u001b[0m\u001b[0;34m\u001b[0m\u001b[0m\n\u001b[1;32m     29\u001b[0m             \u001b[0mamptime\u001b[0m\u001b[0;34m.\u001b[0m\u001b[0mappend\u001b[0m\u001b[0;34m(\u001b[0m\u001b[0mt\u001b[0m\u001b[0;34m)\u001b[0m\u001b[0;34m\u001b[0m\u001b[0;34m\u001b[0m\u001b[0m\n\u001b[0;32m---> 30\u001b[0;31m             \u001b[0mE\u001b[0m\u001b[0;34m.\u001b[0m\u001b[0mappend\u001b[0m\u001b[0;34m(\u001b[0m\u001b[0;34m(\u001b[0m\u001b[0;36m1\u001b[0m\u001b[0;34m/\u001b[0m\u001b[0;36m2\u001b[0m \u001b[0;34m*\u001b[0m \u001b[0mu\u001b[0m\u001b[0;34m**\u001b[0m\u001b[0;36m2\u001b[0m\u001b[0;34m)\u001b[0m \u001b[0;34m+\u001b[0m \u001b[0;34m(\u001b[0m\u001b[0;36m1\u001b[0m\u001b[0;34m/\u001b[0m\u001b[0;36m2\u001b[0m \u001b[0;34m*\u001b[0m \u001b[0mB\u001b[0m\u001b[0;34m**\u001b[0m\u001b[0;36m2\u001b[0m\u001b[0;34m)\u001b[0m \u001b[0;34m+\u001b[0m \u001b[0;34m(\u001b[0m\u001b[0;36m1\u001b[0m\u001b[0;34m/\u001b[0m\u001b[0;36m3\u001b[0m \u001b[0;34m*\u001b[0m \u001b[0mN0\u001b[0m \u001b[0;34m*\u001b[0m \u001b[0mB\u001b[0m\u001b[0;34m**\u001b[0m\u001b[0;36m3\u001b[0m\u001b[0;34m)\u001b[0m \u001b[0;34m+\u001b[0m \u001b[0;34m(\u001b[0m\u001b[0;36m1\u001b[0m\u001b[0;34m/\u001b[0m\u001b[0;36m4\u001b[0m \u001b[0;34m*\u001b[0m \u001b[0mP0\u001b[0m \u001b[0;34m*\u001b[0m \u001b[0mB\u001b[0m\u001b[0;34m**\u001b[0m\u001b[0;36m4\u001b[0m\u001b[0;34m)\u001b[0m\u001b[0;34m)\u001b[0m\u001b[0;34m\u001b[0m\u001b[0;34m\u001b[0m\u001b[0m\n\u001b[0m\u001b[1;32m     31\u001b[0m \u001b[0;34m\u001b[0m\u001b[0m\n\u001b[1;32m     32\u001b[0m         \u001b[0mV_i\u001b[0m \u001b[0;34m=\u001b[0m \u001b[0mV\u001b[0m\u001b[0;34m[\u001b[0m\u001b[0mi\u001b[0m\u001b[0;34m]\u001b[0m\u001b[0;34m\u001b[0m\u001b[0;34m\u001b[0m\u001b[0m\n",
      "\u001b[0;31mKeyboardInterrupt\u001b[0m: "
     ]
    }
   ],
   "source": [
    "# running functions for sample plot  \n",
    "deltaT = fundeltaT(num_bins, M, dTau)\n",
    "V = funV(std, deltaT, eqmean, Tr)\n",
    "Amp, amptime, E = funB_E(Dstar, dTau, initial_B, N0, P0, deltaT, M, eps, V, initial_u)"
   ]
  },
  {
   "cell_type": "code",
   "execution_count": null,
   "id": "b7de750f",
   "metadata": {},
   "outputs": [],
   "source": [
    "funplots(amptime, E, Amp, V)"
   ]
  }
 ],
 "metadata": {
  "kernelspec": {
   "display_name": "Python 3",
   "language": "python",
   "name": "python3"
  },
  "language_info": {
   "codemirror_mode": {
    "name": "ipython",
    "version": 3
   },
   "file_extension": ".py",
   "mimetype": "text/x-python",
   "name": "python",
   "nbconvert_exporter": "python",
   "pygments_lexer": "ipython3",
   "version": "3.8.8"
  }
 },
 "nbformat": 4,
 "nbformat_minor": 5
}
