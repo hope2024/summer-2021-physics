{
 "cells": [
  {
   "cell_type": "markdown",
   "id": "dd88cc18",
   "metadata": {},
   "source": [
    "# fundeltaT histogram "
   ]
  },
  {
   "cell_type": "code",
   "execution_count": 17,
   "id": "e9eae333",
   "metadata": {},
   "outputs": [],
   "source": [
    "#Import Programs\n",
    "\n",
    "import random\n",
    "import numpy\n",
    "import matplotlib.pyplot as plt\n",
    "import scipy.interpolate as interpolate"
   ]
  },
  {
   "cell_type": "code",
   "execution_count": 18,
   "id": "9afdbb4e",
   "metadata": {},
   "outputs": [],
   "source": [
    "#Initialize Constants\n",
    "\n",
    "num_bins = 200"
   ]
  },
  {
   "cell_type": "code",
   "execution_count": 48,
   "id": "d003ad6e",
   "metadata": {},
   "outputs": [],
   "source": [
    "# Parameters\n",
    "meandeltaT = numpy.pi\n",
    "#num of collisions smaller to see more detail in resultant graphs\n",
    "M = 10**2 \n",
    "J = 300\n",
    "dTau = 2 * numpy.pi / J"
   ]
  },
  {
   "cell_type": "code",
   "execution_count": 45,
   "id": "202ee154",
   "metadata": {},
   "outputs": [],
   "source": [
    "# Copying flatten function \n",
    "# Input nested array (arrays within main array)\n",
    "# Each element of sub-arrays copied into new main array\n",
    "def flatten(lst):\n",
    "    new_lst = []\n",
    "    for i in lst:\n",
    "        for j in i:\n",
    "            new_lst.append(j)\n",
    "    return new_lst"
   ]
  },
  {
   "cell_type": "code",
   "execution_count": 46,
   "id": "6d3a4167",
   "metadata": {},
   "outputs": [],
   "source": [
    "# DeltaT is time between collisions\n",
    "# in Celia's program - DeltaT is length of eddy turnover\n",
    "def fundeltaT(num_bins, M, dTau):\n",
    "    deltaT = []\n",
    "    \n",
    "    # Creates rayleigh distribution\n",
    "    # mode meandeltaT, size M\n",
    "    rayleigh = numpy.random.rayleigh(meandeltaT, M)\n",
    "    hist, bin_edges = numpy.histogram(rayleigh, bins = num_bins, density = True)\n",
    "    cum_values = numpy.zeros(bin_edges.shape)\n",
    "    cum_values[1:] = numpy.cumsum(hist*numpy.diff(bin_edges))\n",
    "    inv_cdf = interpolate.interp1d(cum_values, bin_edges)\n",
    "    \n",
    "    for i in range(M):\n",
    "        r = numpy.random.rand(1)\n",
    "        deltaTtemp = inv_cdf(r)\n",
    "\n",
    "        if (deltaTtemp % dTau < 0.005):\n",
    "            deltaTtemp2 = deltaTtemp - (deltaTtemp % dTau)\n",
    "        else:\n",
    "            deltaTtemp2 = deltaTtemp + dTau - (deltaTtemp % dTau)\n",
    "        deltaT.append(deltaTtemp2)\n",
    "        \n",
    "    deltaT = flatten(deltaT)\n",
    "    count, bins, ignored = plt.hist(deltaT, 80, density = True)\n",
    "    plt.title(\"Delta T\")\n",
    "    plt.xlabel(\"Delta T\")\n",
    "    plt.show()\n",
    "    \n",
    "    return deltaT"
   ]
  },
  {
   "cell_type": "code",
   "execution_count": 47,
   "id": "ba208f91",
   "metadata": {
    "scrolled": false
   },
   "outputs": [
    {
     "data": {
      "image/png": "[encoded data removed]",
      "text/plain": [
       "<Figure size 432x288 with 1 Axes>"
      ]
     },
     "metadata": {
      "needs_background": "light"
     },
     "output_type": "display_data"
    }
   ],
   "source": [
    "deltaT = fundeltaT(num_bins, M, dTau)"
   ]
  },
  {
   "cell_type": "code",
   "execution_count": null,
   "id": "8a6d4506",
   "metadata": {},
   "outputs": [],
   "source": []
  }
 ],
 "metadata": {
  "kernelspec": {
   "display_name": "Python 3",
   "language": "python",
   "name": "python3"
  },
  "language_info": {
   "codemirror_mode": {
    "name": "ipython",
    "version": 3
   },
   "file_extension": ".py",
   "mimetype": "text/x-python",
   "name": "python",
   "nbconvert_exporter": "python",
   "pygments_lexer": "ipython3",
   "version": "3.8.8"
  }
 },
 "nbformat": 4,
 "nbformat_minor": 5
}
